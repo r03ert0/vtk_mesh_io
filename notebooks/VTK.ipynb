{
 "cells": [
  {
   "cell_type": "markdown",
   "metadata": {},
   "source": [
    "# Read & Write VTK, nothing more"
   ]
  },
  {
   "cell_type": "code",
   "execution_count": 1,
   "metadata": {},
   "outputs": [],
   "source": [
    "import re"
   ]
  },
  {
   "cell_type": "code",
   "execution_count": 2,
   "metadata": {},
   "outputs": [],
   "source": [
    "def read_points(rows, index):\n",
    "    \"\"\"Read 3-d points in a VTK mesh file\n",
    "\n",
    "    Parameters\n",
    "    ----------\n",
    "    rows : array\n",
    "        rows of the VTK file\n",
    "    index: int\n",
    "        index of the row where the POINT data starts\n",
    "    \n",
    "    Returns\n",
    "    -------\n",
    "    points : array\n",
    "        An array of 3-d coordinates\n",
    "    \n",
    "    \"\"\"\n",
    "    cols = rows[index].split(' ')\n",
    "    npoints = int(cols[1])\n",
    "    irow = index + 1\n",
    "    sum = 0\n",
    "    points = []\n",
    "    while sum < npoints:\n",
    "        cols = re.findall('[-\\.\\de]+', rows[irow])\n",
    "        for j in range(0, len(cols), 3):\n",
    "            points.append([float(cols[j]), float(cols[j+1]), float(cols[j+2])])\n",
    "            sum = sum + 1\n",
    "        irow = irow + 1\n",
    "\n",
    "    return points"
   ]
  },
  {
   "cell_type": "code",
   "execution_count": 3,
   "metadata": {},
   "outputs": [],
   "source": [
    "def read_polygons(rows, index):\n",
    "    \"\"\"Read triangles in a VTK mesh file\n",
    "\n",
    "    Parameters\n",
    "    ----------\n",
    "    rows : array\n",
    "        rows of the VTK file\n",
    "    index: int\n",
    "        index of the row where the POLYGONS data starts\n",
    "    \n",
    "    Returns\n",
    "    -------\n",
    "    polygons : array\n",
    "        An array of triplets of indices to POINTS\n",
    "    \n",
    "    \"\"\"\n",
    "    cols = rows[index].split(' ')\n",
    "    npolygons = int(cols[1])\n",
    "    irow = index + 1\n",
    "    sum = 0\n",
    "    polygons = []\n",
    "    while sum < npolygons:\n",
    "        cols = re.findall('\\d+', rows[irow])\n",
    "        for j in range(0, len(cols), 4):\n",
    "            if int(cols[j]) == 3:\n",
    "                polygons.append([int(cols[j+1]), int(cols[j+2]), int(cols[j+3])])\n",
    "            else:\n",
    "                print(\"ERROR: Mesh contains non-triangular faces\")\n",
    "            sum = sum + 1\n",
    "        irow = irow + 1\n",
    "\n",
    "    return polygons"
   ]
  },
  {
   "cell_type": "code",
   "execution_count": 4,
   "metadata": {},
   "outputs": [],
   "source": [
    "def read_vtk_mesh(path):\n",
    "    \"\"\"Read a triangular VTK mesh file\n",
    "\n",
    "    Parameters\n",
    "    ----------\n",
    "    path : string\n",
    "        path to an ASCII encoded, triangular VTK mesh file\n",
    "    \n",
    "    Returns\n",
    "    -------\n",
    "    mesh : dictionary\n",
    "        A dictionary containing the points and vertices of the VTK\n",
    "        mesh file. The elements of the dictionary are:\n",
    "        version: the version of the VTK file, normally 3.0\n",
    "        encoding: the encoding of the file, should be ASCII\n",
    "        points: an array of 3-d coordinates\n",
    "        polygons: an array of triplets of vertex indices\n",
    "    \"\"\"\n",
    "    f = open(path, \"r\")\n",
    "    str = f.read()\n",
    "    f.close()\n",
    "    rows = str.split('\\n')\n",
    "\n",
    "    mesh = {}\n",
    "    mesh[\"version\"] = rows[0]\n",
    "    mesh[\"encoding\"] = rows[2]\n",
    "    if mesh[\"encoding\"] != \"ASCII\":\n",
    "        print(\"ERROR: File encoding is not ASCII\")\n",
    "\n",
    "    nrows = len(rows)\n",
    "    for i in range(nrows):\n",
    "        cols = rows[i].split(' ')\n",
    "        if cols[0] == \"POINTS\":\n",
    "            npoints = float(cols[1])\n",
    "            mesh[\"points\"] = read_points(rows, i)\n",
    "        if cols[0] == \"POLYGONS\":\n",
    "            npoints = float(cols[1])\n",
    "            mesh[\"polygons\"] = read_polygons(rows, i)\n",
    "\n",
    "    return mesh"
   ]
  },
  {
   "cell_type": "code",
   "execution_count": 5,
   "metadata": {},
   "outputs": [],
   "source": [
    "def write_vtk_mesh(points, triangles, path):\n",
    "    \"\"\"Writes a triangular mesh in ASCII VTK format\n",
    "\n",
    "    Parameters\n",
    "    ----------\n",
    "    points: array\n",
    "        array of 3-d coordinates\n",
    "    triangles: array\n",
    "        array of triplets of vertex indices, 0 based\n",
    "    path : string\n",
    "        path where the VTK mesh file should be saved\n",
    "    \"\"\"\n",
    "    f = open(path, \"w\");\n",
    "    f.write(\"# vtk DataFile Version 3.0\\n\")\n",
    "    f.write(\"vtk output\\n\")\n",
    "    f.write(\"ASCII\\n\")\n",
    "    f.write(\"DATASET POLYDATA\\n\")\n",
    "\n",
    "    # write points\n",
    "    f.write(\"POINTS {npoints} float\\n\".format(npoints=len(points)))\n",
    "    for i in range(0, len(points)):\n",
    "        f.write(\"{x} {y} {z}\\n\".format(x=points[i][0], y=points[i][1], z=points[i][2]))\n",
    "\n",
    "    # write polygons\n",
    "    f.write(\"POLYGONS {npolygons} {nindices}\\n\".format(npolygons=len(triangles), nindices=len(triangles)*4))\n",
    "    for i in range(0, len(triangles)):\n",
    "        f.write(\"3 {x} {y} {z}\\n\".format(x=triangles[i][0], y=triangles[i][1], z=triangles[i][2]))\n",
    "\n",
    "    f.close()"
   ]
  },
  {
   "cell_type": "code",
   "execution_count": 6,
   "metadata": {},
   "outputs": [],
   "source": [
    "mesh = read_vtk_mesh(\"../data/brain.vtk\")"
   ]
  },
  {
   "cell_type": "code",
   "execution_count": 8,
   "metadata": {},
   "outputs": [],
   "source": [
    "write_vtk_mesh(mesh[\"points\"], mesh[\"polygons\"], \"../test/brain_output.vtk\")"
   ]
  },
  {
   "cell_type": "code",
   "execution_count": null,
   "metadata": {},
   "outputs": [],
   "source": []
  }
 ],
 "metadata": {
  "kernelspec": {
   "display_name": "Python 3",
   "language": "python",
   "name": "python3"
  },
  "language_info": {
   "codemirror_mode": {
    "name": "ipython",
    "version": 3
   },
   "file_extension": ".py",
   "mimetype": "text/x-python",
   "name": "python",
   "nbconvert_exporter": "python",
   "pygments_lexer": "ipython3",
   "version": "3.6.4"
  }
 },
 "nbformat": 4,
 "nbformat_minor": 2
}
